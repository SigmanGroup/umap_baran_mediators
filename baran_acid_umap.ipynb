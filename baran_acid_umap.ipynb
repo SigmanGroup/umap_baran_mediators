{
 "cells": [
  {
   "cell_type": "markdown",
   "metadata": {},
   "source": [
    "# Initialization"
   ]
  },
  {
   "cell_type": "code",
   "execution_count": null,
   "metadata": {
    "ExecuteTime": {
     "end_time": "2021-02-03T15:22:55.983957Z",
     "start_time": "2021-02-03T15:22:47.589712Z"
    }
   },
   "outputs": [],
   "source": [
    "import pandas as pd\n",
    "import numpy as np\n",
    "import umap\n",
    "import umap.plot\n",
    "from sklearn.preprocessing import StandardScaler\n",
    "import matplotlib.pyplot as plt\n",
    "from matplotlib.colors import ListedColormap\n",
    "from bokeh.plotting import figure, show, save, output_notebook, output_file\n",
    "randomstate = 42"
   ]
  },
  {
   "cell_type": "markdown",
   "metadata": {},
   "source": [
    "# Load data"
   ]
  },
  {
   "cell_type": "code",
   "execution_count": null,
   "metadata": {
    "ExecuteTime": {
     "end_time": "2021-02-03T15:23:14.974152Z",
     "start_time": "2021-02-03T15:22:58.095843Z"
    }
   },
   "outputs": [],
   "source": [
    "ci = pd.read_excel(\"baran_acid_descriptors.xlsx\",\"Sheet1\",index_col=0,header=0,engine='openpyxl')\n",
    "compinp = ci[ci.columns[0:]].loc[ci.index[0:]]\n",
    "compinp.index = compinp.index.astype(int)\n",
    "compinp.dropna(axis=0,inplace=True)\n",
    "\n",
    "inp2 = pd.read_excel(\"baran_acid_identifiers.xlsx\",\"Sheet1\",index_col=1,header=2,engine='openpyxl')\n",
    "inp2.index = inp2.index.astype(int)"
   ]
  },
  {
   "cell_type": "markdown",
   "metadata": {},
   "source": [
    "**Scale the data**"
   ]
  },
  {
   "cell_type": "code",
   "execution_count": null,
   "metadata": {
    "ExecuteTime": {
     "end_time": "2021-02-03T15:24:00.358774Z",
     "start_time": "2021-02-03T15:24:00.263151Z"
    }
   },
   "outputs": [],
   "source": [
    "X_all = np.array(compinp)\n",
    "X_screened = np.array(compinp.loc[inp2[\"screened\"]==1])\n",
    "X_best = np.array(compinp.loc[inp2[\"best mediators\"]==1])\n",
    "X_first = np.array(compinp.loc[inp2[\"first\"]==1])\n",
    "X_second = np.array(compinp.loc[inp2[\"second\"]==1])\n",
    "X_third = np.array(compinp.loc[inp2[\"third\"]==1])\n",
    "X_rest = np.array(compinp.loc[inp2[\"rest\"]==1])\n",
    "\n",
    "X_all_ids = np.array(compinp.index)\n",
    "X_screened_ids = np.array(compinp.loc[inp2[\"screened\"]==1].index)\n",
    "X_best_ids = np.array(compinp.loc[inp2[\"best mediators\"]==1].index)\n",
    "X_first_ids = np.array(compinp.loc[inp2[\"first\"]==1].index)\n",
    "X_second_ids = np.array(compinp.loc[inp2[\"second\"]==1].index)\n",
    "X_third_ids = np.array(compinp.loc[inp2[\"third\"]==1].index)\n",
    "X_rest_ids = np.array(compinp.loc[inp2[\"rest\"]==1].index)\n",
    "\n",
    "X_all_names = np.array(inp2[\"name\"].loc[X_all_ids])\n",
    "X_screened_names = np.array(inp2['name'].loc[X_screened_ids])\n",
    "X_best_names = np.array(inp2['name'].loc[X_best_ids])\n",
    "X_first_names = np.array(inp2['name'].loc[X_first_ids])\n",
    "X_second_names = np.array(inp2['name'].loc[X_second_ids])\n",
    "X_third_names = np.array(inp2['name'].loc[X_third_ids])\n",
    "X_rest_names = np.array(inp2['name'].loc[X_rest_ids])\n",
    "\n",
    "X_all_smiles = np.array(inp2['SMILES'].loc[X_all_ids])\n",
    "\n",
    "X_screen_results = np.array(inp2['screen results'].loc[X_screened_ids])\n",
    "X_binary_results = np.array(inp2['screen results binary'].loc[X_best_ids])\n",
    "X_best_results = np.array(inp2['best results'].loc[X_best_ids])\n",
    "\n",
    "scaler = StandardScaler()\n",
    "scaler.fit(X_all)\n",
    "X_all_sc = scaler.transform(X_all)\n",
    "X_screened_sc = scaler.transform(X_screened)\n",
    "X_best_sc = scaler.transform(X_best)\n",
    "X_first_sc = scaler.transform(X_first)\n",
    "X_second_sc = scaler.transform(X_second)\n",
    "X_third_sc = scaler.transform(X_third)\n",
    "X_rest_sc = scaler.transform(X_rest)"
   ]
  },
  {
   "cell_type": "markdown",
   "metadata": {},
   "source": [
    "# Standard score plots"
   ]
  },
  {
   "cell_type": "code",
   "execution_count": null,
   "metadata": {
    "ExecuteTime": {
     "end_time": "2021-02-03T15:24:36.127582Z",
     "start_time": "2021-02-03T15:24:24.154779Z"
    }
   },
   "outputs": [],
   "source": [
    "X_main_sc = X_all_sc\n",
    "X_main_ids = X_all_ids\n",
    "\n",
    "reducer = umap.UMAP()\n",
    "reducer.fit(X_main_sc)\n",
    "X_all_red = reducer.transform(X_main_sc)\n",
    "\n",
    "f_ind_1 = 0\n",
    "f_ind_2 = 1\n",
    "\n",
    "x_min, x_max = X_all_red[:, f_ind_1].min() - 2, X_all_red[:, f_ind_1].max() + 2\n",
    "y_min, y_max = X_all_red[:, f_ind_2].min() - 2, X_all_red[:, f_ind_2].max() + 2\n",
    "plt.figure(figsize=(8.5,8))\n",
    "extent = [x_min,x_max,y_min,y_max]\n",
    "plt.xticks(fontsize=12.5) \n",
    "plt.yticks(fontsize=12.5)\n",
    "plt.xlabel(f\"dimension {f_ind_1+1}\",fontsize=12.5)\n",
    "plt.ylabel(f\"dimension {f_ind_2+1}\",fontsize=12.5)\n",
    "plt.locator_params(axis='y', nbins=10)\n",
    "plt.locator_params(axis='x', nbins=10)\n",
    "plt.xlim(x_min,x_max)\n",
    "plt.ylim(y_min,y_max)\n",
    "\n",
    "plt.scatter(X_all_red[:,f_ind_1], X_all_red[:,f_ind_2],c=\"grey\",alpha=1,marker=\".\",s=10)\n",
    "\n",
    "plt.tight_layout()\n",
    "plt.show()  \n",
    "#plt.savefig(\"new1.png\",dpi=300)"
   ]
  },
  {
   "cell_type": "markdown",
   "metadata": {},
   "source": [
    "**Plot two sets**"
   ]
  },
  {
   "cell_type": "code",
   "execution_count": null,
   "metadata": {
    "ExecuteTime": {
     "end_time": "2021-02-03T15:32:25.514721Z",
     "start_time": "2021-02-03T15:32:17.919982Z"
    }
   },
   "outputs": [],
   "source": [
    "X_main_sc = X_all_sc\n",
    "X_main_ids = X_all_ids\n",
    "X_subset_ids = X_screened_ids\n",
    "\n",
    "reducer = umap.UMAP()\n",
    "reducer.fit(X_main_sc)\n",
    "X_all_red = reducer.transform(X_main_sc)\n",
    "\n",
    "f_ind_1 = 0\n",
    "f_ind_2 = 1\n",
    "\n",
    "x_min, x_max = X_all_red[:, f_ind_1].min() - 2, X_all_red[:, f_ind_1].max() + 2\n",
    "y_min, y_max = X_all_red[:, f_ind_2].min() - 2, X_all_red[:, f_ind_2].max() + 2\n",
    "plt.figure(figsize=(10,8))\n",
    "extent = [x_min,x_max,y_min,y_max]\n",
    "plt.xticks(fontsize=12.5) \n",
    "plt.yticks(fontsize=12.5)\n",
    "plt.xlabel(f\"dimension {f_ind_1+1}\",fontsize=15)\n",
    "plt.ylabel(f\"dimension {f_ind_2+1}\",fontsize=15)\n",
    "plt.locator_params(axis='y', nbins=10)\n",
    "plt.locator_params(axis='x', nbins=10)\n",
    "plt.xlim(x_min,x_max)\n",
    "plt.ylim(y_min,y_max)\n",
    "\n",
    "main_set = []\n",
    "subset = []\n",
    "\n",
    "for i in range(0,len(X_main_ids)):\n",
    "    if X_main_ids[i] in X_subset_ids:\n",
    "        x = X_all_red[i].tolist()\n",
    "        subset.append(x)\n",
    "    else:\n",
    "        x = X_all_red[i].tolist()\n",
    "        main_set.append(x)\n",
    "\n",
    "main_set = np.asarray(main_set)\n",
    "subset = np.asarray(subset)\n",
    "\n",
    "# plot the main set as grey\n",
    "plt.scatter(main_set[:,f_ind_1], main_set[:,f_ind_2],c='#E0E0E0',alpha=0.5,marker=\".\",s=100) \n",
    "\n",
    "# plot the subset as blue\n",
    "#plt.scatter(subset[:,f_ind_1], subset[:,f_ind_2],c='#000080',alpha=1,marker='.',s=150,edgecolor='white') \n",
    "\n",
    "# plot the subset using a colormap based on parameter values (KAWA)\n",
    "x = compinp['DPFE']\n",
    "y = list(x[0:60])\n",
    "\n",
    "#x = inp2['screen results']\n",
    "#y = x[0:60]\n",
    "\n",
    "mapping = y\n",
    "plt.scatter(subset[:,f_ind_1], subset[:,f_ind_2],c=mapping,cmap='plasma',alpha=1,marker='.',s=250,edgecolor='white') \n",
    "\n",
    "cbar = plt.colorbar()\n",
    "cbar.set_label('DPFE (kJ/mol)',rotation=90,size=15,labelpad=20)\n",
    "cbar.ax.tick_params(labelsize=12.5)\n",
    "\n",
    "plt.tight_layout()\n",
    "#plt.show()  \n",
    "#plt.savefig(\"dpfe.png\",dpi=300)"
   ]
  },
  {
   "cell_type": "markdown",
   "metadata": {},
   "source": [
    "**Plot multiple sets**"
   ]
  },
  {
   "cell_type": "code",
   "execution_count": null,
   "metadata": {
    "ExecuteTime": {
     "end_time": "2021-02-03T15:34:29.259004Z",
     "start_time": "2021-02-03T15:34:22.884723Z"
    }
   },
   "outputs": [],
   "source": [
    "X_main_sc = X_all_sc\n",
    "X_main_ids = X_all_ids\n",
    "X_subset1_ids = X_first_ids\n",
    "X_subset2_ids = X_second_ids\n",
    "X_subset3_ids = X_third_ids\n",
    "X_subset4_ids = X_rest_ids\n",
    "\n",
    "reducer = umap.UMAP()\n",
    "reducer.fit(X_main_sc)\n",
    "X_all_red = reducer.transform(X_main_sc)\n",
    "\n",
    "f_ind_1 = 0\n",
    "f_ind_2 = 1\n",
    "\n",
    "x_min, x_max = X_all_red[:, f_ind_1].min() - 2, X_all_red[:, f_ind_1].max() + 2\n",
    "y_min, y_max = X_all_red[:, f_ind_2].min() - 2, X_all_red[:, f_ind_2].max() + 2\n",
    "plt.figure(figsize=(8.5,8))\n",
    "extent = [x_min,x_max,y_min,y_max]\n",
    "plt.xticks(fontsize=15) \n",
    "plt.yticks(fontsize=15)\n",
    "plt.xlabel(f\"dimension {f_ind_1+1}\",fontsize=12.5)\n",
    "plt.ylabel(f\"dimension {f_ind_2+1}\",fontsize=12.5)\n",
    "plt.locator_params(axis='y', nbins=10)\n",
    "plt.locator_params(axis='x', nbins=10)\n",
    "plt.xlim(x_min,x_max)\n",
    "plt.ylim(y_min,y_max)\n",
    "    \n",
    "main_set = []\n",
    "subset1 = []\n",
    "subset2 = []\n",
    "subset3 = []\n",
    "subset4 = []\n",
    "\n",
    "for i in range(0,len(X_main_ids)):\n",
    "    if X_main_ids[i] in X_subset1_ids:\n",
    "        x = X_all_red[i].tolist()\n",
    "        subset1.append(x)\n",
    "    if X_main_ids[i] in X_subset2_ids:\n",
    "        x = X_all_red[i].tolist()\n",
    "        subset2.append(x)\n",
    "    if X_main_ids[i] in X_subset3_ids:\n",
    "        x = X_all_red[i].tolist()\n",
    "        subset3.append(x)\n",
    "    if X_main_ids[i] in X_subset4_ids:\n",
    "        x = X_all_red[i].tolist()\n",
    "        subset4.append(x)\n",
    "    else:\n",
    "        x = X_all_red[i].tolist()\n",
    "        main_set.append(x)\n",
    "\n",
    "        \n",
    "main_set = np.asarray(main_set)\n",
    "subset1 = np.asarray(subset1)\n",
    "subset2 = np.asarray(subset2)\n",
    "subset3 = np.asarray(subset3)\n",
    "subset4 = np.asarray(subset4)\n",
    "\n",
    "# plot the main set as grey\n",
    "plt.scatter(main_set[:,f_ind_1], main_set[:,f_ind_2],c='#E0E0E0',alpha=0.3,marker=\".\",s=150) \n",
    "\n",
    "# plot the subset as different colors (reversed to get \"first\" on top) \n",
    "plt.scatter(subset4[:,f_ind_1], subset4[:,f_ind_2],label='<2.0',c='#FFB75A',alpha=1,marker='.',s=300,edgecolor='white')\n",
    "plt.scatter(subset3[:,f_ind_1], subset3[:,f_ind_2],label='2.4',c='#0000FF',alpha=1,marker='.',s=300,edgecolor='white')\n",
    "plt.scatter(subset2[:,f_ind_1], subset2[:,f_ind_2],label='2.7',c='#CC0000',alpha=1,marker='.',s=300,edgecolor='white')\n",
    "plt.scatter(subset1[:,f_ind_1], subset1[:,f_ind_2],label='5.0',c='#00CC00',alpha=1,marker='.',s=300,edgecolor='white') \n",
    "\n",
    "plt.legend(loc='upper right',fontsize=12.5,title='selectivity',title_fontsize=15)\n",
    "\n",
    "plt.tight_layout()\n",
    "#plt.show()  \n",
    "#plt.savefig(\"reactivity2.png\",dpi=300)"
   ]
  },
  {
   "cell_type": "markdown",
   "metadata": {},
   "source": [
    "**3D plot**"
   ]
  },
  {
   "cell_type": "code",
   "execution_count": null,
   "metadata": {
    "ExecuteTime": {
     "end_time": "2021-02-03T15:34:45.042390Z",
     "start_time": "2021-02-03T15:34:37.504175Z"
    }
   },
   "outputs": [],
   "source": [
    "X_main_sc = X_all_sc\n",
    "X_main_ids = X_all_ids\n",
    "X_subset1_ids = X_rest_ids\n",
    "X_subset2_ids = X_third_ids\n",
    "X_subset3_ids = X_second_ids\n",
    "X_subset4_ids = X_first_ids\n",
    "\n",
    "reducer = umap.UMAP(n_components=3, random_state=42)\n",
    "reducer.fit(X_main_sc)\n",
    "X_all_red = reducer.transform(X_main_sc)\n",
    "\n",
    "main_set = []\n",
    "subset1 = []\n",
    "subset2 = []\n",
    "subset3 = []\n",
    "subset4 = []\n",
    "\n",
    "for i in range(0,len(X_main_ids)):\n",
    "    if X_main_ids[i] in X_subset1_ids:\n",
    "        x = X_all_red[i].tolist()\n",
    "        subset1.append(x)\n",
    "    if X_main_ids[i] in X_subset2_ids:\n",
    "        x = X_all_red[i].tolist()\n",
    "        subset2.append(x)\n",
    "    if X_main_ids[i] in X_subset3_ids:\n",
    "        x = X_all_red[i].tolist()\n",
    "        subset3.append(x)\n",
    "    if X_main_ids[i] in X_subset4_ids:\n",
    "        x = X_all_red[i].tolist()\n",
    "        subset4.append(x)\n",
    "    else:\n",
    "        x = X_all_red[i].tolist()\n",
    "        main_set.append(x)\n",
    "        \n",
    "main_set = np.asarray(main_set)\n",
    "subset1 = np.asarray(subset1)\n",
    "subset2 = np.asarray(subset2)\n",
    "subset3 = np.asarray(subset3)\n",
    "subset4 = np.asarray(subset4)\n",
    "\n",
    "from mpl_toolkits.mplot3d import Axes3D  # noqa: F401 unused import # Fixing random state for reproducibility\n",
    "\n",
    "np.random.seed(19680801)\n",
    "fig = plt.figure(figsize=(8,8))\n",
    "ax = fig.add_subplot(111, projection='3d')\n",
    "\n",
    "ax.scatter(main_set[:,0],main_set[:,1],main_set[:,2], marker=\".\",s=150,alpha=0.005,c='grey')\n",
    "\n",
    "ax.scatter(subset1[:,0],subset1[:,1],subset1[:,2],c='#FFCC99',alpha=0.5,marker=\".\",s=200,edgecolor=\"white\",linewidth=0.5)\n",
    "ax.scatter(subset2[:,0],subset2[:,1],subset2[:,2],c='#0000FF',alpha=1,marker=\".\",s=200,edgecolor=\"white\",linewidth=0.5)\n",
    "ax.scatter(subset3[:,0],subset3[:,1],subset3[:,2],c='#CC0000',alpha=1,marker=\".\",s=200,edgecolor=\"white\",linewidth=0.5)\n",
    "ax.scatter(subset4[:,0],subset4[:,1],subset4[:,2],c='#00CC00',alpha=1,marker=\".\",s=200,edgecolor=\"white\",linewidth=0.5)\n",
    "\n",
    "ax.xaxis.pane.set_color('black')\n",
    "ax.yaxis.pane.set_color('black')\n",
    "ax.zaxis.pane.set_color('black')\n",
    "\n",
    "ax.xaxis.pane.set_alpha(0.03)\n",
    "ax.yaxis.pane.set_alpha(0.03)\n",
    "ax.zaxis.pane.set_alpha(0.03)\n",
    "\n",
    "ax.grid(False)\n",
    "\n",
    "ax.set_xlabel('dimension 1')\n",
    "ax.set_ylabel('dimension 2')\n",
    "ax.set_zlabel('dimension 3')\n",
    "\n",
    "#plt.savefig(\"umap 3d.png\",dpi=300)\n",
    "plt.show()\n"
   ]
  },
  {
   "cell_type": "markdown",
   "metadata": {},
   "source": [
    "# Interactive plots"
   ]
  },
  {
   "cell_type": "code",
   "execution_count": null,
   "metadata": {
    "ExecuteTime": {
     "end_time": "2021-02-03T15:34:57.659449Z",
     "start_time": "2021-02-03T15:34:51.286817Z"
    }
   },
   "outputs": [],
   "source": [
    "X_main_sc = X_all_sc\n",
    "X_main_ids = X_all_ids\n",
    "X_main_names = X_all_names\n",
    "\n",
    "embedding = umap.UMAP().fit(X_main_sc)\n",
    "hover_df = pd.DataFrame({'ID':X_main_ids,'Name':X_main_names})\n",
    "int_plot = umap.plot.interactive(embedding, hover_data=hover_df)\n",
    "\n",
    "show(int_plot)"
   ]
  },
  {
   "cell_type": "markdown",
   "metadata": {},
   "source": [
    "**Color based on a subset**"
   ]
  },
  {
   "cell_type": "code",
   "execution_count": null,
   "metadata": {
    "ExecuteTime": {
     "end_time": "2021-02-03T15:35:26.063971Z",
     "start_time": "2021-02-03T15:35:19.328377Z"
    }
   },
   "outputs": [],
   "source": [
    "X_main_sc = X_all_sc\n",
    "X_main_ids = X_all_ids\n",
    "X_main_names = X_all_names\n",
    "X_main_smiles = X_all_smiles\n",
    "X_subset_ids = X_screened_ids\n",
    "\n",
    "embedding = umap.UMAP().fit(X_main_sc)\n",
    "\n",
    "X_subset_ids_TF = []\n",
    "for i in X_main_ids:\n",
    "    if i in X_subset_ids:\n",
    "        X_subset_ids_TF.append(True)\n",
    "    else:\n",
    "        X_subset_ids_TF.append(False)\n",
    "\n",
    "hover_df = pd.DataFrame({'ID':X_main_ids,'Name':X_main_names,'Subset':X_subset_ids_TF,'SMILES':X_main_smiles})\n",
    "int_plot = umap.plot.interactive(embedding, theme='viridis', labels=hover_df['Subset'], hover_data=hover_df)\n",
    "\n",
    "show(int_plot)"
   ]
  },
  {
   "cell_type": "code",
   "execution_count": null,
   "metadata": {},
   "outputs": [],
   "source": []
  }
 ],
 "metadata": {
  "kernelspec": {
   "display_name": "Python 3",
   "language": "python",
   "name": "python3"
  },
  "language_info": {
   "codemirror_mode": {
    "name": "ipython",
    "version": 3
   },
   "file_extension": ".py",
   "mimetype": "text/x-python",
   "name": "python",
   "nbconvert_exporter": "python",
   "pygments_lexer": "ipython3",
   "version": "3.7.3"
  },
  "toc": {
   "base_numbering": 1,
   "nav_menu": {},
   "number_sections": true,
   "sideBar": true,
   "skip_h1_title": false,
   "title_cell": "Table of Contents",
   "title_sidebar": "Contents",
   "toc_cell": false,
   "toc_position": {
    "height": "1009.6px",
    "left": "690px",
    "top": "90.8px",
    "width": "242.6470489501953px"
   },
   "toc_section_display": true,
   "toc_window_display": true
  },
  "varInspector": {
   "cols": {
    "lenName": 16,
    "lenType": 16,
    "lenVar": "400"
   },
   "kernels_config": {
    "python": {
     "delete_cmd_postfix": "",
     "delete_cmd_prefix": "del ",
     "library": "var_list.py",
     "varRefreshCmd": "print(var_dic_list())"
    },
    "r": {
     "delete_cmd_postfix": ") ",
     "delete_cmd_prefix": "rm(",
     "library": "var_list.r",
     "varRefreshCmd": "cat(var_dic_list()) "
    }
   },
   "types_to_exclude": [
    "module",
    "function",
    "builtin_function_or_method",
    "instance",
    "_Feature"
   ],
   "window_display": false
  }
 },
 "nbformat": 4,
 "nbformat_minor": 2
}
